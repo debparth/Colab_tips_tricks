{
  "nbformat": 4,
  "nbformat_minor": 0,
  "metadata": {
    "colab": {
      "name": "FastAPI_Colab.ipynb",
      "provenance": [],
      "authorship_tag": "ABX9TyO6UZ6tz3XM88uH74RblR/g",
      "include_colab_link": true
    },
    "kernelspec": {
      "name": "python3",
      "display_name": "Python 3"
    }
  },
  "cells": [
    {
      "cell_type": "markdown",
      "metadata": {
        "id": "view-in-github",
        "colab_type": "text"
      },
      "source": [
        "<a href=\"https://colab.research.google.com/github/debparth/Colab_tips_tricks/blob/main/FastAPI_Colab.ipynb\" target=\"_parent\"><img src=\"https://colab.research.google.com/assets/colab-badge.svg\" alt=\"Open In Colab\"/></a>"
      ]
    },
    {
      "cell_type": "markdown",
      "metadata": {
        "id": "BLG0hVFhe-m-"
      },
      "source": [
        "# There are 2 ways to run **FASTAPI on Colab**\r\n"
      ]
    },
    {
      "cell_type": "markdown",
      "metadata": {
        "id": "IFFOq5OqfIkB"
      },
      "source": [
        "# First -> Using FastAPI with ngrok package"
      ]
    },
    {
      "cell_type": "code",
      "metadata": {
        "id": "6b3z_gWyIWPc",
        "colab": {
          "base_uri": "https://localhost:8080/"
        },
        "outputId": "65c0d3cc-356c-4fee-fa9b-860916a27424"
      },
      "source": [
        "!pip install fastapi nest-asyncio pyngrok uvicorn -q"
      ],
      "execution_count": 1,
      "outputs": [
        {
          "output_type": "stream",
          "text": [
            "\u001b[K     |████████████████████████████████| 51kB 4.4MB/s \n",
            "\u001b[K     |████████████████████████████████| 51kB 6.2MB/s \n",
            "\u001b[K     |████████████████████████████████| 9.2MB 7.4MB/s \n",
            "\u001b[K     |████████████████████████████████| 61kB 9.0MB/s \n",
            "\u001b[K     |████████████████████████████████| 61kB 9.4MB/s \n",
            "\u001b[?25h  Building wheel for pyngrok (setup.py) ... \u001b[?25l\u001b[?25hdone\n"
          ],
          "name": "stdout"
        }
      ]
    },
    {
      "cell_type": "code",
      "metadata": {
        "id": "9x-9vV5dIeYH"
      },
      "source": [
        "from fastapi import FastAPI\r\n",
        "\r\n",
        "app = FastAPI()\r\n",
        "\r\n",
        "@app.get('/')\r\n",
        "async def root():\r\n",
        "    return \"Hello World!!\""
      ],
      "execution_count": 2,
      "outputs": []
    },
    {
      "cell_type": "markdown",
      "metadata": {
        "id": "HqfTwgzChiJV"
      },
      "source": [
        "**Click on the *XXXXXXXXX.ngrok.io* link below after running the below cell**"
      ]
    },
    {
      "cell_type": "code",
      "metadata": {
        "colab": {
          "base_uri": "https://localhost:8080/"
        },
        "id": "aaJa5KWKIu-I",
        "outputId": "869c7731-5ad3-4732-e15c-cf3ce89afe16"
      },
      "source": [
        "import nest_asyncio\r\n",
        "from pyngrok import ngrok\r\n",
        "import uvicorn\r\n",
        "\r\n",
        "ngrok_tunnel = ngrok.connect(8000)\r\n",
        "print('Public URL: ', ngrok_tunnel.public_url)\r\n",
        "nest_asyncio.apply()\r\n",
        "uvicorn.run(app, port=8000)"
      ],
      "execution_count": 3,
      "outputs": [
        {
          "output_type": "stream",
          "text": [
            ""
          ],
          "name": "stdout"
        },
        {
          "output_type": "stream",
          "text": [
            "INFO:     Started server process [60]\n",
            "INFO:     Waiting for application startup.\n",
            "INFO:     Application startup complete.\n",
            "INFO:     Uvicorn running on http://127.0.0.1:8000 (Press CTRL+C to quit)\n"
          ],
          "name": "stderr"
        },
        {
          "output_type": "stream",
          "text": [
            "Public URL:  http://330794c77643.ngrok.io\n",
            "INFO:     43.250.158.91:0 - \"GET / HTTP/1.1\" 200 OK\n",
            "INFO:     43.250.158.91:0 - \"GET /favicon.ico HTTP/1.1\" 404 Not Found\n"
          ],
          "name": "stdout"
        },
        {
          "output_type": "stream",
          "text": [
            "INFO:     Shutting down\n",
            "INFO:     Waiting for application shutdown.\n",
            "INFO:     Application shutdown complete.\n",
            "INFO:     Finished server process [60]\n"
          ],
          "name": "stderr"
        }
      ]
    },
    {
      "cell_type": "markdown",
      "metadata": {
        "id": "yEUGLAf_hNXH"
      },
      "source": [
        "# Second -> Using Proxy Port of Colab"
      ]
    },
    {
      "cell_type": "code",
      "metadata": {
        "colab": {
          "base_uri": "https://localhost:8080/",
          "height": 34
        },
        "id": "fI9TFeyHIx3t",
        "outputId": "007b6f67-e2d5-407b-9a89-1fbc14e7c033"
      },
      "source": [
        "from google.colab.output import eval_js\r\n",
        "\r\n",
        "print(eval_js(\"google.colab.kernel.proxyPort(8000)\"))"
      ],
      "execution_count": 4,
      "outputs": [
        {
          "output_type": "stream",
          "text": [
            "https://2wqp811x0mh-496ff2e9c6d22116-8000-colab.googleusercontent.com/\n"
          ],
          "name": "stdout"
        }
      ]
    },
    {
      "cell_type": "markdown",
      "metadata": {
        "id": "ZPRPNr7Wh0h8"
      },
      "source": [
        "**Click on the above generated link provided by the colab proxy after you run the below cell**"
      ]
    },
    {
      "cell_type": "code",
      "metadata": {
        "colab": {
          "base_uri": "https://localhost:8080/"
        },
        "id": "ty81rsaoKEEH",
        "outputId": "e91ecaaa-ddb5-407f-a199-d039d938a8b1"
      },
      "source": [
        "from fastapi import FastAPI\r\n",
        "\r\n",
        "app = FastAPI()\r\n",
        "\r\n",
        "@app.get('/')\r\n",
        "async def root():\r\n",
        "    return \"Hello World!!\"\r\n",
        "\r\n",
        "uvicorn.run(app)"
      ],
      "execution_count": 5,
      "outputs": [
        {
          "output_type": "stream",
          "text": [
            "INFO:     Started server process [60]\n",
            "INFO:     Waiting for application startup.\n",
            "INFO:     Application startup complete.\n",
            "INFO:     Uvicorn running on http://127.0.0.1:8000 (Press CTRL+C to quit)\n"
          ],
          "name": "stderr"
        }
      ]
    }
  ]
}