{
  "nbformat": 4,
  "nbformat_minor": 0,
  "metadata": {
    "colab": {
      "name": "Streamlit_Colab",
      "provenance": [],
      "collapsed_sections": [],
      "toc_visible": true,
      "include_colab_link": true
    },
    "kernelspec": {
      "display_name": "Python 3",
      "name": "python3"
    }
  },
  "cells": [
    {
      "cell_type": "markdown",
      "metadata": {
        "id": "view-in-github",
        "colab_type": "text"
      },
      "source": [
        "<a href=\"https://colab.research.google.com/github/debparth/Colab_tips_tricks/blob/main/Streamlit_Colab.ipynb\" target=\"_parent\"><img src=\"https://colab.research.google.com/assets/colab-badge.svg\" alt=\"Open In Colab\"/></a>"
      ]
    },
    {
      "cell_type": "markdown",
      "metadata": {
        "id": "YueD6bxr_Ndx"
      },
      "source": [
        "Run all of the following to start the Streamlit demo!\n",
        "\n",
        "Modify with the [docs](https://docs.streamlit.io/) to prototype your own ML apps."
      ]
    },
    {
      "cell_type": "markdown",
      "metadata": {
        "id": "Sw8qABsoZVpu"
      },
      "source": [
        "**Install Streamlit**"
      ]
    },
    {
      "cell_type": "code",
      "metadata": {
        "id": "cPxfsHGb5_xh",
        "colab": {
          "base_uri": "https://localhost:8080/"
        },
        "outputId": "df721a04-17cc-4662-d56e-74be40737ce2"
      },
      "source": [
        "!pip install streamlit -q"
      ],
      "execution_count": null,
      "outputs": [
        {
          "output_type": "stream",
          "text": [
            "\u001b[K     |████████████████████████████████| 7.5MB 9.3MB/s \n",
            "\u001b[K     |████████████████████████████████| 81kB 9.1MB/s \n",
            "\u001b[K     |████████████████████████████████| 4.5MB 40.6MB/s \n",
            "\u001b[K     |████████████████████████████████| 163kB 49.5MB/s \n",
            "\u001b[K     |████████████████████████████████| 112kB 39.7MB/s \n",
            "\u001b[K     |████████████████████████████████| 122kB 39.9MB/s \n",
            "\u001b[K     |████████████████████████████████| 71kB 8.4MB/s \n",
            "\u001b[?25h  Building wheel for blinker (setup.py) ... \u001b[?25l\u001b[?25hdone\n",
            "\u001b[31mERROR: google-colab 1.0.0 has requirement ipykernel~=4.10, but you'll have ipykernel 5.4.3 which is incompatible.\u001b[0m\n"
          ],
          "name": "stdout"
        }
      ]
    },
    {
      "cell_type": "markdown",
      "metadata": {
        "id": "z_brYliiZad9"
      },
      "source": [
        "**Download the ngrok linux 64-bit zip file**"
      ]
    },
    {
      "cell_type": "code",
      "metadata": {
        "id": "GC3gSHfd6J9y",
        "colab": {
          "base_uri": "https://localhost:8080/"
        },
        "outputId": "84004ad5-b0db-4069-e0ce-83ec763873cf"
      },
      "source": [
        "!wget https://bin.equinox.io/c/4VmDzA7iaHb/ngrok-stable-linux-amd64.zip\n",
        "!unzip -qq ngrok-stable-linux-amd64.zip"
      ],
      "execution_count": null,
      "outputs": [
        {
          "output_type": "stream",
          "text": [
            "--2021-02-02 08:07:59--  https://bin.equinox.io/c/4VmDzA7iaHb/ngrok-stable-linux-amd64.zip\n",
            "Resolving bin.equinox.io (bin.equinox.io)... 52.5.208.118, 52.20.36.26, 52.204.93.39, ...\n",
            "Connecting to bin.equinox.io (bin.equinox.io)|52.5.208.118|:443... connected.\n",
            "HTTP request sent, awaiting response... 200 OK\n",
            "Length: 13773305 (13M) [application/octet-stream]\n",
            "Saving to: ‘ngrok-stable-linux-amd64.zip.1’\n",
            "\n",
            "ngrok-stable-linux- 100%[===================>]  13.13M  19.1MB/s    in 0.7s    \n",
            "\n",
            "2021-02-02 08:08:00 (19.1 MB/s) - ‘ngrok-stable-linux-amd64.zip.1’ saved [13773305/13773305]\n",
            "\n",
            "replace ngrok? [y]es, [n]o, [A]ll, [N]one, [r]ename: A\n"
          ],
          "name": "stdout"
        }
      ]
    },
    {
      "cell_type": "markdown",
      "metadata": {
        "id": "oE8YZYsk-UGs"
      },
      "source": [
        "**Use the output of this command as the link to your Streamlit app.**"
      ]
    },
    {
      "cell_type": "code",
      "metadata": {
        "id": "XMOoOLFT88ku",
        "colab": {
          "base_uri": "https://localhost:8080/"
        },
        "outputId": "4354fa4d-85d2-404e-805c-819971ab4eff"
      },
      "source": [
        "get_ipython().system_raw('./ngrok http 8501 &')\n",
        "! curl -s http://localhost:4040/api/tunnels | python3 -c \\\n",
        "    \"import sys, json; print(json.load(sys.stdin)['tunnels'][0]['public_url'])\""
      ],
      "execution_count": null,
      "outputs": [
        {
          "output_type": "stream",
          "text": [
            "https://daf0f0cfc32d.ngrok.io\n"
          ],
          "name": "stdout"
        }
      ]
    },
    {
      "cell_type": "markdown",
      "metadata": {
        "id": "SdNVtkKn-l-z"
      },
      "source": [
        "**Ignore the output of this**"
      ]
    },
    {
      "cell_type": "code",
      "metadata": {
        "id": "rUHzaig59IQ_",
        "colab": {
          "base_uri": "https://localhost:8080/"
        },
        "outputId": "e9f0c555-9581-4f66-876e-bd0b1581fbd8"
      },
      "source": [
        "!streamlit hello"
      ],
      "execution_count": null,
      "outputs": [
        {
          "output_type": "stream",
          "text": [
            "\u001b[0m\n",
            "\u001b[34m\u001b[1m  Welcome to Streamlit. Check out our demo in your browser.\u001b[0m\n",
            "\u001b[0m\n",
            "\u001b[34m  Network URL: \u001b[0m\u001b[1mhttp://172.28.0.2:8501\u001b[0m\n",
            "\u001b[34m  External URL: \u001b[0m\u001b[1mhttp://34.125.8.76:8501\u001b[0m\n",
            "\u001b[0m\n",
            "  Ready to create your own Python apps super quickly?\u001b[0m\n",
            "  Head over to \u001b[0m\u001b[1mhttps://docs.streamlit.io\u001b[0m\n",
            "\u001b[0m\n",
            "  May you create awesome apps!\u001b[0m\n",
            "\u001b[0m\n",
            "2021-02-02 08:08:42.998 MediaFileManager: Missing file 25fecd1e37d02f7f54089f6acde72bd22f67643be1dbe2028f8e2c06.jpeg\n",
            "2021-02-02 08:08:43.114 MediaFileManager: Missing file f371b4e417e6a7fe417af3210f6609b568ad512851217395a95a12f9.jpeg\n",
            "2021-02-02 08:10:12.278 NumExpr defaulting to 2 threads.\n",
            "\u001b[34m  Stopping...\u001b[0m\n",
            "\u001b[34m  Stopping...\u001b[0m\n"
          ],
          "name": "stdout"
        }
      ]
    },
    {
      "cell_type": "code",
      "metadata": {
        "id": "w-hxtWGNxaef"
      },
      "source": [
        ""
      ],
      "execution_count": null,
      "outputs": []
    }
  ]
}