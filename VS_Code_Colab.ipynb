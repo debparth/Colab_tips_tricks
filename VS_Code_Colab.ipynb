{
  "nbformat": 4,
  "nbformat_minor": 0,
  "metadata": {
    "colab": {
      "name": "VS Code Colab.ipynb",
      "provenance": [],
      "authorship_tag": "ABX9TyMNkcLWUEHRHp0dCys4SnY9",
      "include_colab_link": true
    },
    "kernelspec": {
      "name": "python3",
      "display_name": "Python 3"
    },
    "accelerator": "GPU"
  },
  "cells": [
    {
      "cell_type": "markdown",
      "metadata": {
        "id": "view-in-github",
        "colab_type": "text"
      },
      "source": [
        "<a href=\"https://colab.research.google.com/github/debparth/Colab_tips_tricks/blob/main/VS_Code_Colab.ipynb\" target=\"_parent\"><img src=\"https://colab.research.google.com/assets/colab-badge.svg\" alt=\"Open In Colab\"/></a>"
      ]
    },
    {
      "cell_type": "markdown",
      "metadata": {
        "id": "TRLkTqXAnT7F"
      },
      "source": [
        "- Install the Colab Code package which will let you run vs code in colab using ngrok tunnel"
      ]
    },
    {
      "cell_type": "code",
      "metadata": {
        "id": "5P0LEUuLfMMY",
        "colab": {
          "base_uri": "https://localhost:8080/"
        },
        "outputId": "13ebfe11-1890-4aca-c11e-29db12631f66"
      },
      "source": [
        "!pip install colabcode"
      ],
      "execution_count": null,
      "outputs": [
        {
          "output_type": "stream",
          "text": [
            "Collecting colabcode\n",
            "  Downloading https://files.pythonhosted.org/packages/5d/d5/4f9db2a4fe80f507c9c44c2cd4fd614234c1fe0d77e8f1101329997a19cd/colabcode-0.0.9-py3-none-any.whl\n",
            "Collecting pyngrok>=5.0.0\n",
            "  Downloading https://files.pythonhosted.org/packages/ea/63/e086f165125e9bf2e71c0db2955911baaaa0af8947ab5c7b3771bdf4d4d5/pyngrok-5.0.0.tar.gz\n",
            "Requirement already satisfied: PyYAML in /usr/local/lib/python3.6/dist-packages (from pyngrok>=5.0.0->colabcode) (3.13)\n",
            "Building wheels for collected packages: pyngrok\n",
            "  Building wheel for pyngrok (setup.py) ... \u001b[?25l\u001b[?25hdone\n",
            "  Created wheel for pyngrok: filename=pyngrok-5.0.0-cp36-none-any.whl size=18780 sha256=07ed17d9fab927c3428ea36d27ae42e2178a40a5a99a8cf46b800921362b6394\n",
            "  Stored in directory: /root/.cache/pip/wheels/95/df/23/af8dde08c3fcdc7b966adcacef48ab29aa3b0b1860df5d2b79\n",
            "Successfully built pyngrok\n",
            "Installing collected packages: pyngrok, colabcode\n",
            "Successfully installed colabcode-0.0.9 pyngrok-5.0.0\n"
          ],
          "name": "stdout"
        }
      ]
    },
    {
      "cell_type": "markdown",
      "metadata": {
        "id": "6pb85yMor7mz"
      },
      "source": [
        "- Paste your **Authorization Code** below in **authtoken** after signing up from [**here**](https://dashboard.ngrok.com/signup)"
      ]
    },
    {
      "cell_type": "markdown",
      "metadata": {
        "id": "mHpAEpF7nbLr"
      },
      "source": [
        "- Click on the **XXXXXXXXX.ngrok.io** link below after running the cell"
      ]
    },
    {
      "cell_type": "code",
      "metadata": {
        "id": "2yzCSc0NfRo2",
        "colab": {
          "base_uri": "https://localhost:8080/"
        },
        "outputId": "674d3f3b-24d0-473f-8836-e1daf09da3a0"
      },
      "source": [
        "from colabcode import ColabCode\n",
        "\n",
        "ColabCode(authtoken=\"\", mount_drive=True, code=True)"
      ],
      "execution_count": null,
      "outputs": [
        {
          "output_type": "stream",
          "text": [
            "Code Server can be accessed on: NgrokTunnel: \"http://9998767f9579.ngrok.io\" -> \"http://localhost:10000\"\n",
            "[2020-10-28T19:04:23.315Z] info  Using user-data-dir ~/.local/share/code-server\n",
            "[2020-10-28T19:04:23.321Z] info  code-server 3.6.1 62735da69466a444561ab9b1115dc7c4d496d455\n",
            "[2020-10-28T19:04:23.322Z] info  Using config file ~/.config/code-server/config.yaml\n",
            "[2020-10-28T19:04:23.327Z] info  HTTP server listening on http://127.0.0.1:10000\n",
            "[2020-10-28T19:04:23.327Z] info    - No authentication\n",
            "[2020-10-28T19:04:23.327Z] info    - Not serving HTTPS\n"
          ],
          "name": "stdout"
        }
      ]
    }
  ]
}